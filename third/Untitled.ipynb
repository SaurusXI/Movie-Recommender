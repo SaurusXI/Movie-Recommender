{
 "cells": [
  {
   "cell_type": "markdown",
   "metadata": {},
   "source": [
    "## Collaborative filtering\n",
    "How a user would rate an unseen movie is predicted based on how similar users have rated similar movies. The model used here is non-negative matrix factorization, since it manages sparsity well (the user-movie rating matrix will be sparse since most users will only watch a small subset of movies in the database)"
   ]
  },
  {
   "cell_type": "code",
   "execution_count": 82,
   "metadata": {},
   "outputs": [],
   "source": [
    "import pandas as pd\n",
    "import numpy as np\n",
    "from sklearn.decomposition import NMF\n",
    "import matplotlib.pyplot as plt\n",
    "import joblib\n",
    "%matplotlib inline"
   ]
  },
  {
   "cell_type": "markdown",
   "metadata": {},
   "source": [
    "### Importing data\n",
    "... and exploring the tables. Note that a projection of metadata is imported."
   ]
  },
  {
   "cell_type": "code",
   "execution_count": 2,
   "metadata": {},
   "outputs": [
    {
     "name": "stderr",
     "output_type": "stream",
     "text": [
      "/usr/lib/python3.8/site-packages/IPython/core/interactiveshell.py:3050: DtypeWarning: Columns (10) have mixed types. Specify dtype option on import or set low_memory=False.\n",
      "  has_raised = await self.run_ast_nodes(code_ast.body, cell_name,\n"
     ]
    },
    {
     "data": {
      "text/html": [
       "<div>\n",
       "<style scoped>\n",
       "    .dataframe tbody tr th:only-of-type {\n",
       "        vertical-align: middle;\n",
       "    }\n",
       "\n",
       "    .dataframe tbody tr th {\n",
       "        vertical-align: top;\n",
       "    }\n",
       "\n",
       "    .dataframe thead th {\n",
       "        text-align: right;\n",
       "    }\n",
       "</style>\n",
       "<table border=\"1\" class=\"dataframe\">\n",
       "  <thead>\n",
       "    <tr style=\"text-align: right;\">\n",
       "      <th></th>\n",
       "      <th>userId</th>\n",
       "      <th>movieId</th>\n",
       "      <th>rating</th>\n",
       "      <th>timestamp</th>\n",
       "    </tr>\n",
       "  </thead>\n",
       "  <tbody>\n",
       "    <tr>\n",
       "      <th>0</th>\n",
       "      <td>1</td>\n",
       "      <td>31</td>\n",
       "      <td>2.5</td>\n",
       "      <td>1260759144</td>\n",
       "    </tr>\n",
       "    <tr>\n",
       "      <th>1</th>\n",
       "      <td>1</td>\n",
       "      <td>1029</td>\n",
       "      <td>3.0</td>\n",
       "      <td>1260759179</td>\n",
       "    </tr>\n",
       "    <tr>\n",
       "      <th>2</th>\n",
       "      <td>1</td>\n",
       "      <td>1061</td>\n",
       "      <td>3.0</td>\n",
       "      <td>1260759182</td>\n",
       "    </tr>\n",
       "    <tr>\n",
       "      <th>3</th>\n",
       "      <td>1</td>\n",
       "      <td>1129</td>\n",
       "      <td>2.0</td>\n",
       "      <td>1260759185</td>\n",
       "    </tr>\n",
       "    <tr>\n",
       "      <th>4</th>\n",
       "      <td>1</td>\n",
       "      <td>1172</td>\n",
       "      <td>4.0</td>\n",
       "      <td>1260759205</td>\n",
       "    </tr>\n",
       "  </tbody>\n",
       "</table>\n",
       "</div>"
      ],
      "text/plain": [
       "   userId  movieId  rating   timestamp\n",
       "0       1       31     2.5  1260759144\n",
       "1       1     1029     3.0  1260759179\n",
       "2       1     1061     3.0  1260759182\n",
       "3       1     1129     2.0  1260759185\n",
       "4       1     1172     4.0  1260759205"
      ]
     },
     "execution_count": 2,
     "metadata": {},
     "output_type": "execute_result"
    }
   ],
   "source": [
    "ratings = pd.read_csv('../ratings_small.csv')\n",
    "links = pd.read_csv('../links_small.csv')\n",
    "metadata = pd.read_csv('../movies_metadata.csv')[['id', 'title']].set_index('id')\n",
    "ratings.head()"
   ]
  },
  {
   "cell_type": "markdown",
   "metadata": {},
   "source": [
    "The links table maps movieId to imdbId and tmdbId. This is important because, for instance, the metadata table uses tmdbId to identify movies whereas the ratings table uses movieId. <br> \n",
    "The links table is made more managable by doing the following:<br>\n",
    "- Since 'tmbdId' contains NaN entries, all values are treated as np.float; that is fixed (since id should definitely be considered as int)\n",
    "- movieId is set as index"
   ]
  },
  {
   "cell_type": "code",
   "execution_count": 3,
   "metadata": {},
   "outputs": [
    {
     "data": {
      "text/html": [
       "<div>\n",
       "<style scoped>\n",
       "    .dataframe tbody tr th:only-of-type {\n",
       "        vertical-align: middle;\n",
       "    }\n",
       "\n",
       "    .dataframe tbody tr th {\n",
       "        vertical-align: top;\n",
       "    }\n",
       "\n",
       "    .dataframe thead th {\n",
       "        text-align: right;\n",
       "    }\n",
       "</style>\n",
       "<table border=\"1\" class=\"dataframe\">\n",
       "  <thead>\n",
       "    <tr style=\"text-align: right;\">\n",
       "      <th></th>\n",
       "      <th>id</th>\n",
       "    </tr>\n",
       "    <tr>\n",
       "      <th>movieId</th>\n",
       "      <th></th>\n",
       "    </tr>\n",
       "  </thead>\n",
       "  <tbody>\n",
       "    <tr>\n",
       "      <th>1</th>\n",
       "      <td>862</td>\n",
       "    </tr>\n",
       "    <tr>\n",
       "      <th>2</th>\n",
       "      <td>8844</td>\n",
       "    </tr>\n",
       "    <tr>\n",
       "      <th>3</th>\n",
       "      <td>15602</td>\n",
       "    </tr>\n",
       "    <tr>\n",
       "      <th>4</th>\n",
       "      <td>31357</td>\n",
       "    </tr>\n",
       "    <tr>\n",
       "      <th>5</th>\n",
       "      <td>11862</td>\n",
       "    </tr>\n",
       "  </tbody>\n",
       "</table>\n",
       "</div>"
      ],
      "text/plain": [
       "            id\n",
       "movieId       \n",
       "1          862\n",
       "2         8844\n",
       "3        15602\n",
       "4        31357\n",
       "5        11862"
      ]
     },
     "execution_count": 3,
     "metadata": {},
     "output_type": "execute_result"
    }
   ],
   "source": [
    "links['id'] = links['tmdbId'].apply(lambda x: int(x) if not np.isnan(x) else -1)\n",
    "links = links[['movieId', 'id']].set_index('movieId')\n",
    "links.head()"
   ]
  },
  {
   "cell_type": "code",
   "execution_count": 5,
   "metadata": {},
   "outputs": [
    {
     "data": {
      "text/html": [
       "<div>\n",
       "<style scoped>\n",
       "    .dataframe tbody tr th:only-of-type {\n",
       "        vertical-align: middle;\n",
       "    }\n",
       "\n",
       "    .dataframe tbody tr th {\n",
       "        vertical-align: top;\n",
       "    }\n",
       "\n",
       "    .dataframe thead th {\n",
       "        text-align: right;\n",
       "    }\n",
       "</style>\n",
       "<table border=\"1\" class=\"dataframe\">\n",
       "  <thead>\n",
       "    <tr style=\"text-align: right;\">\n",
       "      <th></th>\n",
       "      <th>title</th>\n",
       "    </tr>\n",
       "    <tr>\n",
       "      <th>id</th>\n",
       "      <th></th>\n",
       "    </tr>\n",
       "  </thead>\n",
       "  <tbody>\n",
       "    <tr>\n",
       "      <th>862</th>\n",
       "      <td>Toy Story</td>\n",
       "    </tr>\n",
       "    <tr>\n",
       "      <th>8844</th>\n",
       "      <td>Jumanji</td>\n",
       "    </tr>\n",
       "    <tr>\n",
       "      <th>15602</th>\n",
       "      <td>Grumpier Old Men</td>\n",
       "    </tr>\n",
       "    <tr>\n",
       "      <th>31357</th>\n",
       "      <td>Waiting to Exhale</td>\n",
       "    </tr>\n",
       "    <tr>\n",
       "      <th>11862</th>\n",
       "      <td>Father of the Bride Part II</td>\n",
       "    </tr>\n",
       "  </tbody>\n",
       "</table>\n",
       "</div>"
      ],
      "text/plain": [
       "                             title\n",
       "id                                \n",
       "862                      Toy Story\n",
       "8844                       Jumanji\n",
       "15602             Grumpier Old Men\n",
       "31357            Waiting to Exhale\n",
       "11862  Father of the Bride Part II"
      ]
     },
     "execution_count": 5,
     "metadata": {},
     "output_type": "execute_result"
    }
   ],
   "source": [
    "metadata.head()"
   ]
  },
  {
   "cell_type": "markdown",
   "metadata": {},
   "source": [
    "## Building our model"
   ]
  },
  {
   "cell_type": "markdown",
   "metadata": {},
   "source": [
    "Some data structures useful for computing preference matrices are generated:\n",
    "- 'users' is a pd.Series of userIds\n",
    "- 'movies' is a pd.Series of movieIds\n",
    "- 'movieId_map' maps a list of 0-based indices to movieIds. This is done because movieIds are not consecutive, which is problematic when referring to columns in preference matrix by movieId. Thus movieId is mapped to an index which can be used to select column from matrix\n",
    "- 'userId_map' maps a list of 0-based indices to userIds\n",
    "- 'inv_movieId_map' inverts the movieId_map mapping. This is useful when we need to infer rating from preference matrix.\n",
    "- 'inv_userId_map' inverts the userId_map mapping."
   ]
  },
  {
   "cell_type": "code",
   "execution_count": 15,
   "metadata": {
    "scrolled": true
   },
   "outputs": [],
   "source": [
    "users = ratings['userId'].unique()\n",
    "movies = ratings['movieId'].unique()\n",
    "movieId_map = pd.Series(np.arange(len(movies)), index = movies)\n",
    "userId_map = pd.Series(np.arange(len(users)), index = users)"
   ]
  },
  {
   "cell_type": "code",
   "execution_count": 30,
   "metadata": {},
   "outputs": [],
   "source": [
    "inv_movieId_map = pd.Series(movies, index = np.arange(len(movies)))\n",
    "inv_userId_map = pd.Series(users, index = np.arange(len(users)))"
   ]
  },
  {
   "cell_type": "code",
   "execution_count": 31,
   "metadata": {},
   "outputs": [
    {
     "data": {
      "text/plain": [
       "0          31\n",
       "1        1029\n",
       "2        1061\n",
       "3        1129\n",
       "4        1172\n",
       "        ...  \n",
       "9061    64997\n",
       "9062    72380\n",
       "9063      129\n",
       "9064     4736\n",
       "9065     6425\n",
       "Length: 9066, dtype: int64"
      ]
     },
     "execution_count": 31,
     "metadata": {},
     "output_type": "execute_result"
    }
   ],
   "source": [
    "inv_movieId_map"
   ]
  },
  {
   "cell_type": "markdown",
   "metadata": {},
   "source": [
    "### Preference matrix\n",
    "Preference matrix based on available information is generated. Matrix has mapped userIds as rows and mapped userIds as columns. Entry (i, j) is the rating user i has given to movie j. If user i has not seen movie j, entry (i, j) = 0"
   ]
  },
  {
   "cell_type": "code",
   "execution_count": 18,
   "metadata": {},
   "outputs": [],
   "source": [
    "preference_matrix = np.zeros(shape = (userId_map.shape[0], movieId_map.shape[0]), dtype = np.float16)\n",
    "for index, movie in ratings.iterrows():\n",
    "    preference_matrix[userId_map[movie[0]], movieId_map[movie[1]]] = movie['rating']"
   ]
  },
  {
   "cell_type": "markdown",
   "metadata": {},
   "source": [
    "### Recomputed preference matrix\n",
    "Preference matrix P is approximately factorized into matrices W and H. \n",
    "- W has dimension n_users x number of latent features. It describes how a user rates a set of latent features that describe movies.\n",
    "- H has dimension number of latent features x n_movies. It describes how latent features describe each movie.\n",
    "- Number of latent features has been chosen as 30 due to computational limitations. Ideally, the number would be much higher, selected via GridSearchCV."
   ]
  },
  {
   "cell_type": "code",
   "execution_count": 21,
   "metadata": {},
   "outputs": [],
   "source": [
    "model = NMF(n_components = 30, init = 'random', random_state = 0)\n",
    "users_latent_feat = model.fit_transform(preference_matrix)\n",
    "latent_feat_movies = model.components_"
   ]
  },
  {
   "cell_type": "markdown",
   "metadata": {},
   "source": [
    "As a result of approximation, when preferences are re-computed from product of W and H, most zeroes in the matrix are changed to non-zeroes."
   ]
  },
  {
   "cell_type": "code",
   "execution_count": 22,
   "metadata": {},
   "outputs": [],
   "source": [
    "modified_preferences = np.dot(users_latent_feat, latent_feat_movies)"
   ]
  },
  {
   "cell_type": "code",
   "execution_count": 60,
   "metadata": {},
   "outputs": [],
   "source": [
    "def get_recommendations(userId):\n",
    "    user_pref = modified_preferences[inv_userId_map[userId], :].reshape(modified_preferences.shape[1])\n",
    "    user_pref = list(enumerate(user_pref))\n",
    "    user_pref = sorted(user_pref, key = lambda x: x[1], reverse = True)[:50]\n",
    "    preferences = []\n",
    "    for i in user_pref:\n",
    "        Id = inv_movieId_map[i[0]]\n",
    "        Id = links.loc[Id].values[0]\n",
    "        title = metadata.loc[str(Id)].values[0]\n",
    "        preferences.append(title)       \n",
    "    return preferences"
   ]
  },
  {
   "cell_type": "markdown",
   "metadata": {},
   "source": [
    "Let's see what movies user '2' is recommended by the model:"
   ]
  },
  {
   "cell_type": "code",
   "execution_count": 62,
   "metadata": {},
   "outputs": [
    {
     "data": {
      "text/plain": [
       "['The Empire Strikes Back',\n",
       " 'Return of the Jedi',\n",
       " 'Star Wars',\n",
       " 'Back to the Future',\n",
       " 'The Terminator',\n",
       " 'Men in Black',\n",
       " 'Raiders of the Lost Ark',\n",
       " 'Terminator 2: Judgment Day',\n",
       " 'E.T. the Extra-Terrestrial',\n",
       " 'Aliens',\n",
       " 'Alien',\n",
       " 'Blade Runner',\n",
       " 'The Princess Bride',\n",
       " 'Indiana Jones and the Last Crusade',\n",
       " 'Star Wars: Episode I - The Phantom Menace',\n",
       " 'Monty Python and the Holy Grail',\n",
       " 'Total Recall',\n",
       " 'Die Hard',\n",
       " 'Star Trek IV: The Voyage Home',\n",
       " 'Star Trek II: The Wrath of Khan',\n",
       " 'The Blues Brothers',\n",
       " 'Jurassic Park',\n",
       " 'Forrest Gump',\n",
       " 'Groundhog Day',\n",
       " 'Big',\n",
       " 'Beetlejuice',\n",
       " 'Ghostbusters',\n",
       " 'Superman',\n",
       " 'The Matrix',\n",
       " \"Ferris Bueller's Day Off\",\n",
       " 'The Abyss',\n",
       " 'Who Framed Roger Rabbit',\n",
       " 'Lethal Weapon',\n",
       " 'Jaws',\n",
       " 'Indiana Jones and the Temple of Doom',\n",
       " 'Back to the Future Part II',\n",
       " 'The Breakfast Club',\n",
       " 'Aladdin',\n",
       " 'Full Metal Jacket',\n",
       " 'Stand by Me',\n",
       " 'When Harry Met Sally...',\n",
       " 'Contact',\n",
       " 'The Wizard of Oz',\n",
       " 'Willy Wonka & the Chocolate Factory',\n",
       " 'The Fifth Element',\n",
       " 'Saving Private Ryan',\n",
       " 'Romancing the Stone',\n",
       " 'Independence Day',\n",
       " 'RoboCop',\n",
       " '2001: A Space Odyssey']"
      ]
     },
     "execution_count": 62,
     "metadata": {},
     "output_type": "execute_result"
    }
   ],
   "source": [
    "get_recommendations(2)"
   ]
  },
  {
   "cell_type": "markdown",
   "metadata": {},
   "source": [
    "This is looks good, since most movies are very similar. The user seems to have a preference for Star Wars movies, and we see that Star Trek and many other sci-fi titles have been recommended. Storing the modified preferences matrix and mappings using this model's name ('third'):"
   ]
  },
  {
   "cell_type": "code",
   "execution_count": 86,
   "metadata": {},
   "outputs": [
    {
     "data": {
      "text/plain": [
       "['../THIRD-inv_userId_map']"
      ]
     },
     "execution_count": 86,
     "metadata": {},
     "output_type": "execute_result"
    }
   ],
   "source": [
    "joblib.dump(modified_preferences, '../THIRD-modified_preferences', compress = 9)\n",
    "joblib.dump(movieId_map, '../THIRD-movieId_map', compress = 9)\n",
    "joblib.dump(userId_map, '../THIRD-userId_map', compress = 9)\n",
    "joblib.dump(inv_movieId_map, '../THIRD-inv_movieId_map', compress = 9)\n",
    "joblib.dump(inv_userId_map, '../THIRD-inv_userId_map', compress = 9)"
   ]
  },
  {
   "cell_type": "markdown",
   "metadata": {},
   "source": [
    "## Visualizing the results\n",
    "First, we look at how ratings are distributed in the original preference matrix. Setting a very low value of alpha, we see that the more solid a region, more number of ratings exist for that value."
   ]
  },
  {
   "cell_type": "code",
   "execution_count": 84,
   "metadata": {},
   "outputs": [
    {
     "data": {
      "image/png": "[encoded data removed]",
      "text/plain": [
       "<Figure size 432x288 with 1 Axes>"
      ]
     },
     "metadata": {
      "needs_background": "light"
     },
     "output_type": "display_data"
    }
   ],
   "source": [
    "for user_ratings in preference_matrix:\n",
    "    plt.scatter(np.arange(modified_preferences.shape[1]), user_ratings, c = 'b', alpha = 0.007)\n",
    "plt.show()"
   ]
  },
  {
   "cell_type": "markdown",
   "metadata": {},
   "source": [
    "In the original matrix, rating = 0 is the most dense region of the graph, meaning that the matrix is very sparse. Furthermore, we see that as we move down the list of users, information about their preferences becomes very sparse. Now, performing the same visualization for the modified preference matrix:"
   ]
  },
  {
   "cell_type": "code",
   "execution_count": 85,
   "metadata": {},
   "outputs": [
    {
     "data": {
      "image/png": "[encoded data removed]",
      "text/plain": [
       "<Figure size 432x288 with 1 Axes>"
      ]
     },
     "metadata": {
      "needs_background": "light"
     },
     "output_type": "display_data"
    }
   ],
   "source": [
    "for user_ratings in modified_preferences:\n",
    "    plt.scatter(np.arange(modified_preferences.shape[1]), user_ratings, c = 'b', alpha = 0.007)\n",
    "plt.ylim((0,5))\n",
    "plt.show()"
   ]
  },
  {
   "cell_type": "markdown",
   "metadata": {},
   "source": [
    "In this case, we see that other regions also become dense, hence reducing the sparcity of the matrix. Thus more information about user preferences is now available. However, since the original matrix became sparser on moving down the list of users, the modified matrix too exhibits this behaviour, albeit to a lesser extent. <br><br>\n",
    "In conclusion, the modified preference matrix holds a lot of predictive power about what movie's a user would like based on the collaborative filtering approach."
   ]
  }
 ],
 "metadata": {
  "kernelspec": {
   "display_name": "Python 3",
   "language": "python",
   "name": "python3"
  },
  "language_info": {
   "codemirror_mode": {
    "name": "ipython",
    "version": 3
   },
   "file_extension": ".py",
   "mimetype": "text/x-python",
   "name": "python",
   "nbconvert_exporter": "python",
   "pygments_lexer": "ipython3",
   "version": "3.8.0"
  }
 },
 "nbformat": 4,
 "nbformat_minor": 2
}
